{
  "nbformat": 4,
  "nbformat_minor": 0,
  "metadata": {
    "colab": {
      "provenance": []
    },
    "kernelspec": {
      "name": "python3",
      "display_name": "Python 3"
    },
    "language_info": {
      "name": "python"
    }
  },
  "cells": [
    {
      "cell_type": "markdown",
      "source": [
        "**STREAMLIT**\n",
        "\n",
        "Streamlit - это *библиотека* для Python, которая позволяет создавать *веб-приложения* для машинного обучения, визуализации данных и других задач с минимальными усилиями. С помощью Streamlit вы можете быстро превратить свой код Python в интерактивное веб-приложение без *необходимости* изучения других язаков программироания, таких как HTML, CSS или JavaScript.\n",
        "\n",
        "Некоторые особенности библиотеки Streamlit:\n",
        "\n",
        "**1. Простота использования**: Создание веб-приложений с помощью Streamlit очень просто и интуитивно понятно. Вам нужно лишь написать Python-скрипт, который определяет визуализацию данных и интерактивные элементы.\n",
        "\n",
        "**2. Необычные элементы**: Streamlit предоставляет различные типы элементов, такие как ползунки, флажки, выпадающие списки и многое другое, чтобы пользователи могли взаимодействовать с вашим приложением.\n",
        "\n",
        "**3. Быстрое обновление**: При внесении изменений в ваш код, приложение автоматически перезагружается, что позволяет мгновенно увидеть результаты изменений.\n",
        "\n",
        "**4. Широкие возможности**: С помощью Streamlit вы можете создавать различные типы визуализаций данных, прототипов машинного обучения и многое другое.\n",
        "\n",
        "Для начала работы с библиотекой Streamlit вам нужно установить ее через pip и начать создавать свои веб-приложения прямо из своего любимого редактора кода.\n",
        "\n",
        "\n"
      ],
      "metadata": {
        "id": "_NoviWr1wHqJ"
      }
    },
    {
      "cell_type": "markdown",
      "source": [
        "*Streamlit*  позволяет по-разному изображать текст:\n",
        "\n",
        " • st.title() – для установки заголовка;\n",
        "\n",
        " • st.text() – для записи описания для конкретного графика;\n",
        "\n",
        " • st.markdown() – для отображения текста в виде markdown;\n",
        "\n",
        " • st.latex() – для отображения математических выражений на панели мониторинга;\n",
        "\n",
        " • st.write() – помогает отображать все возможные детали, например, график, фрейм данных, функции, модель и т. д.;\n",
        "\n",
        " • st.sidebar() – для отображения данных на боковой панели;\n",
        "\n",
        " • st.dataframe() – для отображения фрейма данных;\n",
        "\n",
        " • st.map() – для отображения карты в одной строке кода и т. д.\n",
        "\n",
        " Также можно добавить *интерактивные детали* с помощью виджетов:\n",
        "\n",
        " • st.sidebar.checkbox() - для отображения/скрытия данных;\n",
        "\n",
        " • st.sidebar.selectbox() – для выбора для отображения параметров."
      ],
      "metadata": {
        "id": "23SamPd2C9di"
      }
    },
    {
      "cell_type": "markdown",
      "source": [
        "Пример с выводом текста и графика:"
      ],
      "metadata": {
        "id": "NnKyPi8BHpJW"
      }
    },
    {
      "cell_type": "code",
      "source": [
        "import streamlit as st\n",
        "import numpy as np\n",
        "import matplotlib.pyplot as plt\n",
        "\n",
        "st.title('Пример приложения с Streamlit')\n",
        "\n",
        "# Вывод текста\n",
        "st.write('Привет, это пример приложения с текстом и графиком!')\n",
        "\n",
        "# Генерация данных для графика\n",
        "data = np.random.randn(100)\n",
        "\n",
        "# Вывод графика\n",
        "plt.hist(data, bins=20)\n",
        "st.pyplot()\n"
      ],
      "metadata": {
        "id": "4FAz13ojHwEK"
      },
      "execution_count": null,
      "outputs": []
    },
    {
      "cell_type": "markdown",
      "source": [
        "с использованием виджетов (слайдера):"
      ],
      "metadata": {
        "id": "Alov-sYFH0Cs"
      }
    },
    {
      "cell_type": "code",
      "source": [
        "import streamlit as st\n",
        "\n",
        "st.title('Пример приложения с использованием виджетов')\n",
        "\n",
        "# Слайдер для выбора числа\n",
        "number = st.slider('Выберите число', 0, 100, 50)\n",
        "st.write(f'Выбранное число: {number}')\n"
      ],
      "metadata": {
        "id": "F6AnWsDNH6K1"
      },
      "execution_count": null,
      "outputs": []
    },
    {
      "cell_type": "markdown",
      "source": [
        "с использованием боковой панели и кнопки:"
      ],
      "metadata": {
        "id": "2TzsWEe3H_ak"
      }
    },
    {
      "cell_type": "code",
      "source": [
        "import streamlit as st\n",
        "\n",
        "st.title('Пример приложения с боковой панелью и кнопкой')\n",
        "\n",
        "# Добавление боковой панели\n",
        "st.sidebar.title('Настройки')\n",
        "name = st.sidebar.text_input('Введите ваше имя', 'Иван')\n",
        "\n",
        "# Вывод приветственного сообщения\n",
        "st.write(f'Привет, {name}!')\n",
        "\n",
        "# Кнопка для обновления страницы\n",
        "if st.button('Обновить'):\n",
        "    st.write('Страница обновлена!')\n"
      ],
      "metadata": {
        "id": "snlvsL_pIH1T"
      },
      "execution_count": null,
      "outputs": []
    },
    {
      "cell_type": "markdown",
      "source": [
        "с использованием выбора из выпадающего списка:"
      ],
      "metadata": {
        "id": "KdDtntjOIKnT"
      }
    },
    {
      "cell_type": "code",
      "source": [
        "import streamlit as st\n",
        "\n",
        "st.title('Пример приложения с выбором из выпадающего списка')\n",
        "\n",
        "# Выбор из выпадающего списка\n",
        "option = st.selectbox(\n",
        "    'Выберите опцию',\n",
        "    ['Вариант 1', 'Вариант 2', 'Вариант 3']\n",
        ")\n",
        "\n",
        "st.write(f'Выбранная опция: {option}')\n"
      ],
      "metadata": {
        "id": "jlKKIyRuIVss"
      },
      "execution_count": null,
      "outputs": []
    },
    {
      "cell_type": "markdown",
      "source": [
        "Примеры посложнее:"
      ],
      "metadata": {
        "id": "3sBBJ6JdIZRB"
      }
    },
    {
      "cell_type": "code",
      "source": [
        "import streamlit as st\n",
        "from PIL import Image\n",
        "\n",
        "# Заголовок веб-приложения\n",
        "st.title('Загрузка и отображение изображения')\n",
        "\n",
        "# Создаем поле для загрузки изображения\n",
        "uploaded_image = st.file_uploader(\"Выберите изображение\", type=[\"jpg\", \"jpeg\", \"png\"])\n",
        "\n",
        "# Если изображение загружено, отображаем его\n",
        "if uploaded_image is not None:\n",
        "    image = Image.open(uploaded_image)\n",
        "    st.image(image, caption='Загруженное изображение', use_column_width=True)"
      ],
      "metadata": {
        "id": "zkLzUkfII5Xl"
      },
      "execution_count": null,
      "outputs": []
    },
    {
      "cell_type": "markdown",
      "source": [
        "Этот пример демонстрирует базовую функциональность Streamlit для загрузки и отображения изображений."
      ],
      "metadata": {
        "id": "4qK2A_CiI6d7"
      }
    },
    {
      "cell_type": "code",
      "source": [
        "import streamlit as st\n",
        "\n",
        "# Заголовок приложения\n",
        "st.title('Пример приложения с Streamlit')\n",
        "\n",
        "# Добавление текстового поля для ввода имени\n",
        "name = st.text_input('Введите ваше имя', 'Иван')\n",
        "\n",
        "# Вывод приветственного сообщения\n",
        "st.write(f'Привет, {name}!')\n",
        "\n",
        "# Добавление графика\n",
        "import matplotlib.pyplot as plt\n",
        "import numpy as np\n",
        "\n",
        "data = np.random.randn(100)\n",
        "plt.hist(data, bins=20)\n",
        "st.set_option('deprecation.showPyplotGlobalUse', False)\n",
        "st.pyplot()\n",
        "\n",
        "video_url = 'https://www.youtube.com/watch?v=dQw4w9WgXcQ'\n",
        "st.video(video_url)"
      ],
      "metadata": {
        "id": "COBptgNDxoKK"
      },
      "execution_count": null,
      "outputs": []
    },
    {
      "cell_type": "markdown",
      "source": [
        "Этот код создает простое веб-приложение с текстовым полем для ввода имени, приветственным сообщением, гистограммой и видео. При запуске приложения с помощью Streamlit командой streamlit run app.py вы увидите интерактивное приложение в браузере.\n",
        "\n"
      ],
      "metadata": {
        "id": "ER656xa6zdAB"
      }
    }
  ]
}